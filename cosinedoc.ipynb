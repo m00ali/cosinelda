{
  "nbformat": 4,
  "nbformat_minor": 0,
  "metadata": {
    "colab": {
      "provenance": []
    },
    "kernelspec": {
      "name": "python3",
      "display_name": "Python 3"
    },
    "language_info": {
      "name": "python"
    }
  },
  "cells": [
    {
      "cell_type": "code",
      "execution_count": null,
      "metadata": {
        "id": "GtRCFwHVWXrw"
      },
      "outputs": [],
      "source": [
        "import spacy as sp\n",
        "from spacy.lang.en.stop_words import STOP_WORDS\n",
        "import pandas as pd\n",
        "import numpy as np\n",
        "from sklearn.feature_extraction.text import TfidfVectorizer\n",
        "from sklearn.metrics.pairwise import cosine_similarity\n"
      ]
    },
    {
      "cell_type": "code",
      "source": [
        "doc_1 = \"In the depths of the enchanted forest, a hushed silence prevailed, broken only by the rustle of leaves underfoot. Shafts of golden sunlight pierced through the dense canopy, casting an ethereal glow upon the moss-covered ground. The air was crisp and fragrant, filled with the sweet scent of wildflowers and the earthy aroma of the ancient trees. Hidden amidst the foliage, a gentle brook meandered, its crystal-clear waters glistening with a mesmerizing brilliance. \"\n",
        "doc_2 = \"High above the bustling city streets, the skyline sparkled like a necklace of jewels against the twilight sky. Towering skyscrapers reached for the heavens, their glass facades reflecting the kaleidoscope of colors from the setting sun. The city's heartbeat echoed through the labyrinthine streets as cars whizzed by, horns blaring in a symphony of urban life. Pedestrians hurried along the sidewalks, their footsteps blending into a rhythmic cacophony. \"\n"
      ],
      "metadata": {
        "id": "Kka3QlBqWh1I"
      },
      "execution_count": null,
      "outputs": []
    },
    {
      "cell_type": "code",
      "source": [
        "data = [doc_1, doc_2]"
      ],
      "metadata": {
        "id": "1QimP5sLWtpv"
      },
      "execution_count": null,
      "outputs": []
    },
    {
      "cell_type": "code",
      "source": [
        "vectorizer = TfidfVectorizer()"
      ],
      "metadata": {
        "id": "oilN6cdcWxPn"
      },
      "execution_count": null,
      "outputs": []
    },
    {
      "cell_type": "code",
      "source": [
        "count = vectorizer.fit_transform(data)"
      ],
      "metadata": {
        "id": "Q4nh_umvWxvs"
      },
      "execution_count": null,
      "outputs": []
    },
    {
      "cell_type": "code",
      "source": [
        "print(count)\n",
        "##### 0,12 means first doc 12 index, 1 ,91 means second doc 91 index###"
      ],
      "metadata": {
        "colab": {
          "base_uri": "https://localhost:8080/"
        },
        "id": "oldFGHwaW1vR",
        "outputId": "5065428d-2b5b-4556-dc28-d7de7a2ae202"
      },
      "execution_count": null,
      "outputs": [
        {
          "output_type": "stream",
          "name": "stdout",
          "text": [
            "  (0, 12)\t0.09024064305443712\n",
            "  (0, 64)\t0.09024064305443712\n",
            "  (0, 43)\t0.09024064305443712\n",
            "  (0, 100)\t0.09024064305443712\n",
            "  (0, 22)\t0.09024064305443712\n",
            "  (0, 26)\t0.09024064305443712\n",
            "  (0, 56)\t0.09024064305443712\n",
            "  (0, 63)\t0.09024064305443712\n",
            "  (0, 14)\t0.09024064305443712\n",
            "  (0, 41)\t0.09024064305443712\n",
            "  (0, 35)\t0.09024064305443712\n",
            "  (0, 4)\t0.09024064305443712\n",
            "  (0, 49)\t0.09024064305443712\n",
            "  (0, 94)\t0.09024064305443712\n",
            "  (0, 6)\t0.09024064305443712\n",
            "  (0, 8)\t0.09024064305443712\n",
            "  (0, 29)\t0.09024064305443712\n",
            "  (0, 102)\t0.09024064305443712\n",
            "  (0, 76)\t0.09024064305443712\n",
            "  (0, 88)\t0.09024064305443712\n",
            "  (0, 103)\t0.18048128610887423\n",
            "  (0, 34)\t0.09024064305443712\n",
            "  (0, 39)\t0.09024064305443712\n",
            "  (0, 7)\t0.18048128610887423\n",
            "  (0, 25)\t0.09024064305443712\n",
            "  :\t:\n",
            "  (1, 42)\t0.09849435560044463\n",
            "  (1, 91)\t0.19698871120088926\n",
            "  (1, 48)\t0.09849435560044463\n",
            "  (1, 37)\t0.09849435560044463\n",
            "  (1, 72)\t0.09849435560044463\n",
            "  (1, 83)\t0.09849435560044463\n",
            "  (1, 93)\t0.09849435560044463\n",
            "  (1, 81)\t0.09849435560044463\n",
            "  (1, 95)\t0.09849435560044463\n",
            "  (1, 1)\t0.09849435560044463\n",
            "  (1, 57)\t0.09849435560044463\n",
            "  (1, 66)\t0.09849435560044463\n",
            "  (1, 62)\t0.09849435560044463\n",
            "  (1, 84)\t0.09849435560044463\n",
            "  (1, 82)\t0.09849435560044463\n",
            "  (1, 85)\t0.19698871120088926\n",
            "  (1, 21)\t0.19698871120088926\n",
            "  (1, 15)\t0.09849435560044463\n",
            "  (1, 0)\t0.09849435560044463\n",
            "  (1, 50)\t0.09849435560044463\n",
            "  (1, 92)\t0.07007954522117138\n",
            "  (1, 16)\t0.07007954522117138\n",
            "  (1, 67)\t0.21023863566351414\n",
            "  (1, 90)\t0.6307159069905424\n",
            "  (1, 54)\t0.07007954522117138\n"
          ]
        }
      ]
    },
    {
      "cell_type": "code",
      "source": [
        "tokens = vectorizer.get_feature_names_out()\n",
        "tokens"
      ],
      "metadata": {
        "colab": {
          "base_uri": "https://localhost:8080/"
        },
        "id": "uK2DMAq4W4Z5",
        "outputId": "a91add85-192b-419a-bd0a-2342be18479b"
      },
      "execution_count": null,
      "outputs": [
        {
          "output_type": "execute_result",
          "data": {
            "text/plain": [
              "array(['above', 'against', 'air', 'along', 'amidst', 'an', 'ancient',\n",
              "       'and', 'aroma', 'as', 'blaring', 'blending', 'brilliance',\n",
              "       'broken', 'brook', 'bustling', 'by', 'cacophony', 'canopy', 'cars',\n",
              "       'casting', 'city', 'clear', 'colors', 'covered', 'crisp',\n",
              "       'crystal', 'dense', 'depths', 'earthy', 'echoed', 'enchanted',\n",
              "       'ethereal', 'facades', 'filled', 'foliage', 'footsteps', 'for',\n",
              "       'forest', 'fragrant', 'from', 'gentle', 'glass', 'glistening',\n",
              "       'glow', 'golden', 'ground', 'heartbeat', 'heavens', 'hidden',\n",
              "       'high', 'horns', 'hurried', 'hushed', 'in', 'into', 'its',\n",
              "       'jewels', 'kaleidoscope', 'labyrinthine', 'leaves', 'life', 'like',\n",
              "       'meandered', 'mesmerizing', 'moss', 'necklace', 'of', 'only',\n",
              "       'pedestrians', 'pierced', 'prevailed', 'reached', 'reflecting',\n",
              "       'rhythmic', 'rustle', 'scent', 'setting', 'shafts', 'sidewalks',\n",
              "       'silence', 'sky', 'skyline', 'skyscrapers', 'sparkled', 'streets',\n",
              "       'sun', 'sunlight', 'sweet', 'symphony', 'the', 'their', 'through',\n",
              "       'towering', 'trees', 'twilight', 'underfoot', 'upon', 'urban',\n",
              "       'was', 'waters', 'whizzed', 'wildflowers', 'with'], dtype=object)"
            ]
          },
          "metadata": {},
          "execution_count": 39
        }
      ]
    },
    {
      "cell_type": "code",
      "source": [
        "cosine_sim = cosine_similarity(count)"
      ],
      "metadata": {
        "id": "sraoIGeLXWGk"
      },
      "execution_count": null,
      "outputs": []
    },
    {
      "cell_type": "code",
      "source": [
        "print(cosine_sim)"
      ],
      "metadata": {
        "colab": {
          "base_uri": "https://localhost:8080/"
        },
        "id": "plGpjGS2X6hg",
        "outputId": "3a8d1ad4-016f-4356-b9e2-546500c36ecb"
      },
      "execution_count": null,
      "outputs": [
        {
          "output_type": "stream",
          "name": "stdout",
          "text": [
            "[[1.         0.48595622]\n",
            " [0.48595622 1.        ]]\n"
          ]
        }
      ]
    }
  ]
}